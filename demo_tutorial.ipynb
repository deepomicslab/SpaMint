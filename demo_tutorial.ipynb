{
 "cells": [
  {
   "cell_type": "markdown",
   "metadata": {},
   "source": [
    "# 0. Import libraries"
   ]
  },
  {
   "cell_type": "code",
   "execution_count": 1,
   "metadata": {},
   "outputs": [],
   "source": [
    "import pandas as pd\n",
    "import warnings\n",
    "warnings.filterwarnings(\"ignore\")\n",
    "\n",
    "from pyStrint.strint import strInt\n",
    "from pyStrint import preprocess as pp"
   ]
  },
  {
   "attachments": {},
   "cell_type": "markdown",
   "metadata": {},
   "source": [
    "# 1. Load files"
   ]
  },
  {
   "cell_type": "code",
   "execution_count": 2,
   "metadata": {},
   "outputs": [],
   "source": [
    "inputDir = './tutorial/demo/'\n",
    "inputDir = '/public/wanwang6/test/tutorial/demo'\n",
    "outDir = f'{inputDir}/results/'\n",
    "sc_exp = pd.read_csv(f'{inputDir}/SC_exp.tsv',sep = '\\t',header=0,index_col=0)\n",
    "sc_meta = pd.read_csv(f'{inputDir}/SC_meta.tsv',sep = '\\t',header=0,index_col=0)\n",
    "st_exp = pd.read_csv(f'{inputDir}/ST_exp.tsv',sep = '\\t',header=0,index_col=0)\n",
    "st_coord = pd.read_csv(f'{inputDir}/ST_coord.tsv',sep = '\\t',header=0,index_col=0)\n",
    "st_decon = pd.read_csv(f'{inputDir}/ST_decon.tsv',sep = '\\t',header=0,index_col=0)"
   ]
  },
  {
   "cell_type": "code",
   "execution_count": 3,
   "metadata": {},
   "outputs": [],
   "source": [
    "sc_distribution = pd.read_csv(f'{inputDir}/simu_sc_distribution.tsv',sep = '\\t',header=0,index_col=0)"
   ]
  },
  {
   "cell_type": "code",
   "execution_count": 4,
   "metadata": {},
   "outputs": [],
   "source": [
    "# Append the addition lrdf to the our lrdb\n",
    "species  = 'Human'\n",
    "lr_list = pd.read_csv(f'{inputDir}/lr_df.csv',sep=',',header=0,index_col=0)\n",
    "lr_df = pp.load_lr_df(species = species)\n",
    "lr_list.columns = lr_df.columns\n",
    "lr_df = pd.concat((lr_df,lr_list),axis = 0)\n",
    "lr_df.index = list(range(len(lr_df)))"
   ]
  },
  {
   "cell_type": "markdown",
   "metadata": {},
   "source": [
    "# 2. Parameters"
   ]
  },
  {
   "cell_type": "code",
   "execution_count": null,
   "metadata": {},
   "outputs": [],
   "source": [
    "species = 'Human'\n",
    "st_tp = 'st'\n",
    "alpha, beta, gamma, delta, eta = [2, 0.001, 0.001, 0.1, 0.0005]\n",
    "\n",
    "num_per_spot = 6\n",
    "repeat_penalty = 10\n",
    "\n",
    "# max_rep for gradient descent, choose accordingly.\n",
    "max_rep = 10"
   ]
  },
  {
   "cell_type": "markdown",
   "metadata": {},
   "source": [
    "# 3. Get cell model"
   ]
  },
  {
   "cell_type": "code",
   "execution_count": 11,
   "metadata": {},
   "outputs": [
    {
     "name": "stdout",
     "output_type": "stream",
     "text": [
      "Running SCEnd on 2131 cells and 3247 genes\n",
      "normalizing data by library size...\n",
      "preprocessing data...\n",
      "number of iteration:  1 / 10\n"
     ]
    }
   ],
   "source": [
    "import smurf\n",
    "operator = smurf.SMURF(n_features=15, estimate_only=True)\n",
    "sc_distribution = operator.smurf_impute(sc_exp.T).T\n",
    "sc_distribution.to_csv(f'{outDir}SC_smurf_demorun.tsv',sep = '\\t',header=True,index=True)"
   ]
  },
  {
   "cell_type": "code",
   "execution_count": null,
   "metadata": {},
   "outputs": [],
   "source": [
    "# or you can load the precomputed results\n",
    "sc_distribution = pd.read_csv(f'{outDir}SC_smurf_demorun.tsv',sep = '\\t',header=0,index_col=0)"
   ]
  },
  {
   "cell_type": "markdown",
   "metadata": {},
   "source": [
    "# 4. Preprocess"
   ]
  },
  {
   "cell_type": "code",
   "execution_count": 8,
   "metadata": {},
   "outputs": [
    {
     "name": "stdout",
     "output_type": "stream",
     "text": [
      "Data clean is done! Using 3244 shared genes .\n"
     ]
    }
   ],
   "source": [
    "sc_adata, st_adata, sc_ref, lr_df = pp.prep_all_adata(sc_exp = sc_exp, st_exp = st_exp, sc_distribution = sc_distribution,\n",
    "                                                    sc_meta = sc_meta, st_coord = st_coord, lr_df = lr_df, SP = species)"
   ]
  },
  {
   "cell_type": "markdown",
   "metadata": {},
   "source": [
    "# 5. Cell selection"
   ]
  },
  {
   "cell_type": "code",
   "execution_count": 9,
   "metadata": {},
   "outputs": [
    {
     "name": "stdout",
     "output_type": "stream",
     "text": [
      "The cell index of sc_ref is not str, changed to str for consistency.\n",
      "sc_ref and sc_adata has different genes, both data are subset to 3244 genes.\n",
      "Parameters checked!\n",
      "Getting svg genes\n",
      "By setting k as 6, each spot has average 5.80 neighbors.\n",
      "\t Estimating the cell number in each spot by the deconvolution result.\n",
      "\t SpexMod selects 3070 feature genes.\n",
      "\t Init solution: max - 0.9984,     mean - 0.9800,     min - 0.9046\n",
      "\t Swap selection start...\n",
      "\t Swapped solution: max - 1.00,     mean - 0.99,     min - 0.91\n"
     ]
    }
   ],
   "source": [
    "obj_spex = strInt(save_path = outDir, st_adata = st_adata, weight = st_decon,\n",
    "                    sc_ref = sc_ref, sc_adata = sc_adata, cell_type_key = 'celltype', lr_df = lr_df,\n",
    "                    st_tp = 'st',species = species)\n",
    "obj_spex.prep()\n",
    "sc_agg_meta = obj_spex.select_cells(p = 0, mean_num_per_spot = num_per_spot, mode = 'strict', max_rep = 1,\n",
    "                        repeat_penalty = repeat_penalty)"
   ]
  },
  {
   "cell_type": "markdown",
   "metadata": {},
   "source": [
    "# 6. Refinement process"
   ]
  },
  {
   "cell_type": "code",
   "execution_count": 10,
   "metadata": {},
   "outputs": [
    {
     "name": "stdout",
     "output_type": "stream",
     "text": [
      "Running v12 now...\n",
      "Init sc_coord by affinity embedding...\n",
      "Avearge shape correlation is: 0.8809358026444492\n",
      "First-term calculation done!\n",
      "Second-term calculation done!\n",
      "Third term calculation done!\n",
      "Fourth term calculation done!\n",
      "Hyperparameters adjusted.\n",
      "-----Start iteration 0 -----\n",
      "Avearge shape correlation is: 0.8809358026444492\n",
      "First-term calculation done!\n",
      "Second-term calculation done!\n",
      "Third term calculation done!\n",
      "Fourth term calculation done!\n",
      "---0 self.loss4 878.5419629831486 self.GAMMA 3.4117583359354834e-06 self.GAMMA*self.loss4 0.00299737286567688\n",
      "---In iteration 0, the loss is:loss1:2.99737,loss2:17.82649,loss3:4672.73878,loss4:878.54196,loss5:216.10205.\n",
      "---In iteration 0, the loss is:loss1:2.99737,loss2:5.99475,loss3:0.00300,loss4:0.00300,loss5:0.29974.\n",
      "The total loss after iteration 0 is 9.29785.\n",
      "-----Start iteration 1 -----\n",
      "Avearge shape correlation is: 0.8766731285258995\n",
      "First-term calculation done!\n",
      "Second-term calculation done!\n",
      "Third term calculation done!\n",
      "Fourth term calculation done!\n",
      "---1 self.loss4 907.6801872843416 self.GAMMA 3.4117583359354834e-06 self.GAMMA*self.loss4 0.0030967854453308333\n",
      "---In iteration 1, the loss is:loss1:3.00489,loss2:17.84582,loss3:4953.48124,loss4:907.68019,loss5:216.14344.\n",
      "---In iteration 1, the loss is:loss1:3.00489,loss2:6.00125,loss3:0.00318,loss4:0.00310,loss5:0.29979.\n",
      "The total loss after iteration 1 is 9.31221.\n",
      "-----Start iteration 2 -----\n",
      "Avearge shape correlation is: 0.8786051423064016\n",
      "First-term calculation done!\n",
      "Second-term calculation done!\n",
      "Third term calculation done!\n",
      "Fourth term calculation done!\n",
      "---2 self.loss4 891.925401791977 self.GAMMA 3.4117583359354834e-06 self.GAMMA*self.loss4 0.003043033924596383\n",
      "---In iteration 2, the loss is:loss1:3.00085,loss2:17.84790,loss3:4999.80396,loss4:891.92540,loss5:216.20041.\n",
      "---In iteration 2, the loss is:loss1:3.00085,loss2:6.00195,loss3:0.00321,loss4:0.00304,loss5:0.29987.\n",
      "The total loss after iteration 2 is 9.30892.\n",
      "-----Start iteration 3 -----\n",
      "Avearge shape correlation is: 0.8425654049267153\n",
      "First-term calculation done!\n",
      "Second-term calculation done!\n",
      "Third term calculation done!\n",
      "Fourth term calculation done!\n",
      "---3 self.loss4 971.9024529609102 self.GAMMA 3.4117583359354834e-06 self.GAMMA*self.loss4 0.0033158962956055292\n",
      "---In iteration 3, the loss is:loss1:2.99682,loss2:17.84999,loss3:4809.96292,loss4:971.90245,loss5:216.25735.\n",
      "---In iteration 3, the loss is:loss1:2.99682,loss2:6.00265,loss3:0.00309,loss4:0.00332,loss5:0.29995.\n",
      "The total loss after iteration 3 is 9.30583.\n",
      "-----Start iteration 4 -----\n",
      "Avearge shape correlation is: 0.8439847536967188\n",
      "First-term calculation done!\n",
      "Second-term calculation done!\n",
      "Third term calculation done!\n",
      "Fourth term calculation done!\n",
      "---4 self.loss4 936.4056853857181 self.GAMMA 3.4117583359354834e-06 self.GAMMA*self.loss4 0.0031947899029321036\n",
      "---In iteration 4, the loss is:loss1:2.99281,loss2:17.85210,loss3:4997.57070,loss4:936.40569,loss5:216.31425.\n",
      "---In iteration 4, the loss is:loss1:2.99281,loss2:6.00336,loss3:0.00321,loss4:0.00319,loss5:0.30003.\n",
      "The total loss after iteration 4 is 9.30260.\n",
      "-----Start iteration 5 -----\n",
      "Avearge shape correlation is: 0.8938565850900425\n",
      "First-term calculation done!\n",
      "Second-term calculation done!\n",
      "Third term calculation done!\n",
      "Fourth term calculation done!\n",
      "---5 self.loss4 867.5466597347183 self.GAMMA 3.4117583359354834e-06 self.GAMMA*self.loss4 0.0029598595481629096\n",
      "---In iteration 5, the loss is:loss1:2.98882,loss2:17.85421,loss3:5067.67470,loss4:867.54666,loss5:216.37111.\n",
      "---In iteration 5, the loss is:loss1:2.98882,loss2:6.00407,loss3:0.00325,loss4:0.00296,loss5:0.30011.\n",
      "The total loss after iteration 5 is 9.29921.\n",
      "-----Start iteration 6 -----\n",
      "Avearge shape correlation is: 0.8370335567751616\n",
      "First-term calculation done!\n",
      "Second-term calculation done!\n",
      "Third term calculation done!\n",
      "Fourth term calculation done!\n",
      "---6 self.loss4 863.1701739337901 self.GAMMA 3.4117583359354834e-06 self.GAMMA*self.loss4 0.0029449280362494894\n",
      "---In iteration 6, the loss is:loss1:2.98484,loss2:17.85634,loss3:5005.30528,loss4:863.17017,loss5:216.42793.\n",
      "---In iteration 6, the loss is:loss1:2.98484,loss2:6.00478,loss3:0.00321,loss4:0.00294,loss5:0.30019.\n",
      "The total loss after iteration 6 is 9.29597.\n",
      "-----Start iteration 7 -----\n",
      "Avearge shape correlation is: 0.877023075299333\n",
      "First-term calculation done!\n",
      "Second-term calculation done!\n",
      "Third term calculation done!\n",
      "Fourth term calculation done!\n",
      "---7 self.loss4 925.7614333967986 self.GAMMA 3.4117583359354834e-06 self.GAMMA*self.loss4 0.003158474287479109\n",
      "---In iteration 7, the loss is:loss1:2.98088,loss2:17.85847,loss3:4632.24212,loss4:925.76143,loss5:216.48472.\n",
      "---In iteration 7, the loss is:loss1:2.98088,loss2:6.00550,loss3:0.00297,loss4:0.00316,loss5:0.30027.\n",
      "The total loss after iteration 7 is 9.29278.\n",
      "-----Start iteration 8 -----\n",
      "Avearge shape correlation is: 0.8927912595980309\n",
      "First-term calculation done!\n",
      "Second-term calculation done!\n",
      "Third term calculation done!\n",
      "Fourth term calculation done!\n",
      "---8 self.loss4 915.0513603780461 self.GAMMA 3.4117583359354834e-06 self.GAMMA*self.loss4 0.0031219341065789026\n",
      "---In iteration 8, the loss is:loss1:2.97693,loss2:17.86062,loss3:5010.16064,loss4:915.05136,loss5:216.54146.\n",
      "---In iteration 8, the loss is:loss1:2.97693,loss2:6.00622,loss3:0.00321,loss4:0.00312,loss5:0.30035.\n",
      "The total loss after iteration 8 is 9.28984.\n",
      "-----Start iteration 9 -----\n",
      "Avearge shape correlation is: 0.895749424035845\n",
      "First-term calculation done!\n",
      "Second-term calculation done!\n",
      "Third term calculation done!\n",
      "Fourth term calculation done!\n",
      "---9 self.loss4 945.5484064551014 self.GAMMA 3.4117583359354834e-06 self.GAMMA*self.loss4 0.003225982657753705\n",
      "---In iteration 9, the loss is:loss1:2.97300,loss2:17.86278,loss3:4956.80629,loss4:945.54841,loss5:216.59816.\n",
      "---In iteration 9, the loss is:loss1:2.97300,loss2:6.00695,loss3:0.00318,loss4:0.00323,loss5:0.30043.\n",
      "The total loss after iteration 9 is 9.28678.\n",
      "Avearge shape correlation is: 0.8796237865722795\n"
     ]
    }
   ],
   "source": [
    "# sc_agg_meta.to_csv(f'{outDir}/spexmod_sc_meta.tsv',sep = '\\t',header=True,index=True)\n",
    "alter_sc_exp, sc_agg_meta = obj_spex.gradient_descent(\n",
    "                alpha, beta, gamma, delta, eta,\n",
    "                init_sc_embed = False,\n",
    "                iteration = 10, k = 2, W_HVG = 2,\n",
    "                left_range = 7, right_range = 8, steps = 1, dim = 2)"
   ]
  }
 ],
 "metadata": {
  "kernelspec": {
   "display_name": ".venv",
   "language": "python",
   "name": "python3"
  },
  "language_info": {
   "codemirror_mode": {
    "name": "ipython",
    "version": 3
   },
   "file_extension": ".py",
   "mimetype": "text/x-python",
   "name": "python",
   "nbconvert_exporter": "python",
   "pygments_lexer": "ipython3",
   "version": "3.8.13"
  }
 },
 "nbformat": 4,
 "nbformat_minor": 4
}
