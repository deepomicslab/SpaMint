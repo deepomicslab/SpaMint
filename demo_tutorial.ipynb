{
 "cells": [
  {
   "cell_type": "markdown",
   "metadata": {},
   "source": [
    "# 0. Import libraries"
   ]
  },
  {
   "cell_type": "code",
   "execution_count": 1,
   "metadata": {},
   "outputs": [],
   "source": [
    "import pandas as pd\n",
    "import warnings\n",
    "warnings.filterwarnings(\"ignore\")\n",
    "\n",
    "from pyStrint.strint import strInt\n",
    "from pyStrint import preprocess as pp"
   ]
  },
  {
   "attachments": {},
   "cell_type": "markdown",
   "metadata": {},
   "source": [
    "# 1. Load files"
   ]
  },
  {
   "cell_type": "code",
   "execution_count": 2,
   "metadata": {},
   "outputs": [],
   "source": [
    "inputDir = './tutorial/demo/'\n",
    "inputDir = '/public/wanwang6/test/tutorial/demo'\n",
    "outDir = f'{inputDir}/results/'\n",
    "sc_exp = pd.read_csv(f'{inputDir}/SC_exp.tsv',sep = '\\t',header=0,index_col=0)\n",
    "sc_meta = pd.read_csv(f'{inputDir}/SC_meta.tsv',sep = '\\t',header=0,index_col=0)\n",
    "st_exp = pd.read_csv(f'{inputDir}/ST_exp.tsv',sep = '\\t',header=0,index_col=0)\n",
    "st_coord = pd.read_csv(f'{inputDir}/ST_coord.tsv',sep = '\\t',header=0,index_col=0)\n",
    "st_decon = pd.read_csv(f'{inputDir}/ST_decon.tsv',sep = '\\t',header=0,index_col=0)"
   ]
  },
  {
   "cell_type": "code",
   "execution_count": 4,
   "metadata": {},
   "outputs": [],
   "source": [
    "# Append the addition lrdf to the our lrdb\n",
    "species  = 'Human'\n",
    "lr_list = pd.read_csv(f'{inputDir}/lr_df.csv',sep=',',header=0,index_col=0)\n",
    "lr_df = pp.load_lr_df(species = species)\n",
    "lr_list.columns = lr_df.columns\n",
    "lr_df = pd.concat((lr_df,lr_list),axis = 0)\n",
    "lr_df.index = list(range(len(lr_df)))"
   ]
  },
  {
   "cell_type": "markdown",
   "metadata": {},
   "source": [
    "# 2. Parameters"
   ]
  },
  {
   "cell_type": "code",
   "execution_count": null,
   "metadata": {},
   "outputs": [],
   "source": [
    "species = 'Human'\n",
    "st_tp = 'st'\n",
    "alpha, beta, gamma, delta, eta = [2, 0.001, 0.001, 0.1, 0.0005]\n",
    "\n",
    "num_per_spot = 6\n",
    "repeat_penalty = 10\n",
    "\n",
    "# max_rep for gradient descent, choose accordingly.\n",
    "max_rep = 10"
   ]
  },
  {
   "cell_type": "markdown",
   "metadata": {},
   "source": [
    "# 3. Get cell model"
   ]
  },
  {
   "cell_type": "code",
   "execution_count": 11,
   "metadata": {},
   "outputs": [
    {
     "name": "stdout",
     "output_type": "stream",
     "text": [
      "Running SCEnd on 2131 cells and 3247 genes\n",
      "normalizing data by library size...\n",
      "preprocessing data...\n",
      "number of iteration:  1 / 10\n",
      "number of iteration:  2 / 10\n",
      "number of iteration:  3 / 10\n",
      "number of iteration:  4 / 10\n",
      "number of iteration:  5 / 10\n",
      "number of iteration:  6 / 10\n",
      "number of iteration:  7 / 10\n",
      "number of iteration:  8 / 10\n",
      "number of iteration:  9 / 10\n",
      "number of iteration:  10 / 10\n"
     ]
    },
    {
     "ename": "OSError",
     "evalue": "Cannot save file into a non-existent directory: '/public/wanwang6/test/tutorial/demo/demo_results'",
     "output_type": "error",
     "traceback": [
      "\u001b[0;31m---------------------------------------------------------------------------\u001b[0m",
      "\u001b[0;31mOSError\u001b[0m                                   Traceback (most recent call last)",
      "Input \u001b[0;32mIn [11]\u001b[0m, in \u001b[0;36m<cell line: 4>\u001b[0;34m()\u001b[0m\n\u001b[1;32m      2\u001b[0m operator \u001b[38;5;241m=\u001b[39m smurf\u001b[38;5;241m.\u001b[39mSMURF(n_features\u001b[38;5;241m=\u001b[39m\u001b[38;5;241m15\u001b[39m, estimate_only\u001b[38;5;241m=\u001b[39m\u001b[38;5;28;01mTrue\u001b[39;00m)\n\u001b[1;32m      3\u001b[0m sc_distribution \u001b[38;5;241m=\u001b[39m operator\u001b[38;5;241m.\u001b[39msmurf_impute(sc_exp\u001b[38;5;241m.\u001b[39mT)\u001b[38;5;241m.\u001b[39mT\n\u001b[0;32m----> 4\u001b[0m \u001b[43msc_distribution\u001b[49m\u001b[38;5;241;43m.\u001b[39;49m\u001b[43mto_csv\u001b[49m\u001b[43m(\u001b[49m\u001b[38;5;124;43mf\u001b[39;49m\u001b[38;5;124;43m'\u001b[39;49m\u001b[38;5;132;43;01m{\u001b[39;49;00m\u001b[43moutDir\u001b[49m\u001b[38;5;132;43;01m}\u001b[39;49;00m\u001b[38;5;124;43mSC_smurf_demorun.tsv\u001b[39;49m\u001b[38;5;124;43m'\u001b[39;49m\u001b[43m,\u001b[49m\u001b[43msep\u001b[49m\u001b[43m \u001b[49m\u001b[38;5;241;43m=\u001b[39;49m\u001b[43m \u001b[49m\u001b[38;5;124;43m'\u001b[39;49m\u001b[38;5;130;43;01m\\t\u001b[39;49;00m\u001b[38;5;124;43m'\u001b[39;49m\u001b[43m,\u001b[49m\u001b[43mheader\u001b[49m\u001b[38;5;241;43m=\u001b[39;49m\u001b[38;5;28;43;01mTrue\u001b[39;49;00m\u001b[43m,\u001b[49m\u001b[43mindex\u001b[49m\u001b[38;5;241;43m=\u001b[39;49m\u001b[38;5;28;43;01mTrue\u001b[39;49;00m\u001b[43m)\u001b[49m\n",
      "File \u001b[0;32m~/.local/lib/python3.8/site-packages/pandas/util/_decorators.py:211\u001b[0m, in \u001b[0;36mdeprecate_kwarg.<locals>._deprecate_kwarg.<locals>.wrapper\u001b[0;34m(*args, **kwargs)\u001b[0m\n\u001b[1;32m    209\u001b[0m     \u001b[38;5;28;01melse\u001b[39;00m:\n\u001b[1;32m    210\u001b[0m         kwargs[new_arg_name] \u001b[38;5;241m=\u001b[39m new_arg_value\n\u001b[0;32m--> 211\u001b[0m \u001b[38;5;28;01mreturn\u001b[39;00m \u001b[43mfunc\u001b[49m\u001b[43m(\u001b[49m\u001b[38;5;241;43m*\u001b[39;49m\u001b[43margs\u001b[49m\u001b[43m,\u001b[49m\u001b[43m \u001b[49m\u001b[38;5;241;43m*\u001b[39;49m\u001b[38;5;241;43m*\u001b[39;49m\u001b[43mkwargs\u001b[49m\u001b[43m)\u001b[49m\n",
      "File \u001b[0;32m~/.local/lib/python3.8/site-packages/pandas/core/generic.py:3720\u001b[0m, in \u001b[0;36mNDFrame.to_csv\u001b[0;34m(self, path_or_buf, sep, na_rep, float_format, columns, header, index, index_label, mode, encoding, compression, quoting, quotechar, lineterminator, chunksize, date_format, doublequote, escapechar, decimal, errors, storage_options)\u001b[0m\n\u001b[1;32m   3709\u001b[0m df \u001b[38;5;241m=\u001b[39m \u001b[38;5;28mself\u001b[39m \u001b[38;5;28;01mif\u001b[39;00m \u001b[38;5;28misinstance\u001b[39m(\u001b[38;5;28mself\u001b[39m, ABCDataFrame) \u001b[38;5;28;01melse\u001b[39;00m \u001b[38;5;28mself\u001b[39m\u001b[38;5;241m.\u001b[39mto_frame()\n\u001b[1;32m   3711\u001b[0m formatter \u001b[38;5;241m=\u001b[39m DataFrameFormatter(\n\u001b[1;32m   3712\u001b[0m     frame\u001b[38;5;241m=\u001b[39mdf,\n\u001b[1;32m   3713\u001b[0m     header\u001b[38;5;241m=\u001b[39mheader,\n\u001b[0;32m   (...)\u001b[0m\n\u001b[1;32m   3717\u001b[0m     decimal\u001b[38;5;241m=\u001b[39mdecimal,\n\u001b[1;32m   3718\u001b[0m )\n\u001b[0;32m-> 3720\u001b[0m \u001b[38;5;28;01mreturn\u001b[39;00m \u001b[43mDataFrameRenderer\u001b[49m\u001b[43m(\u001b[49m\u001b[43mformatter\u001b[49m\u001b[43m)\u001b[49m\u001b[38;5;241;43m.\u001b[39;49m\u001b[43mto_csv\u001b[49m\u001b[43m(\u001b[49m\n\u001b[1;32m   3721\u001b[0m \u001b[43m    \u001b[49m\u001b[43mpath_or_buf\u001b[49m\u001b[43m,\u001b[49m\n\u001b[1;32m   3722\u001b[0m \u001b[43m    \u001b[49m\u001b[43mlineterminator\u001b[49m\u001b[38;5;241;43m=\u001b[39;49m\u001b[43mlineterminator\u001b[49m\u001b[43m,\u001b[49m\n\u001b[1;32m   3723\u001b[0m \u001b[43m    \u001b[49m\u001b[43msep\u001b[49m\u001b[38;5;241;43m=\u001b[39;49m\u001b[43msep\u001b[49m\u001b[43m,\u001b[49m\n\u001b[1;32m   3724\u001b[0m \u001b[43m    \u001b[49m\u001b[43mencoding\u001b[49m\u001b[38;5;241;43m=\u001b[39;49m\u001b[43mencoding\u001b[49m\u001b[43m,\u001b[49m\n\u001b[1;32m   3725\u001b[0m \u001b[43m    \u001b[49m\u001b[43merrors\u001b[49m\u001b[38;5;241;43m=\u001b[39;49m\u001b[43merrors\u001b[49m\u001b[43m,\u001b[49m\n\u001b[1;32m   3726\u001b[0m \u001b[43m    \u001b[49m\u001b[43mcompression\u001b[49m\u001b[38;5;241;43m=\u001b[39;49m\u001b[43mcompression\u001b[49m\u001b[43m,\u001b[49m\n\u001b[1;32m   3727\u001b[0m \u001b[43m    \u001b[49m\u001b[43mquoting\u001b[49m\u001b[38;5;241;43m=\u001b[39;49m\u001b[43mquoting\u001b[49m\u001b[43m,\u001b[49m\n\u001b[1;32m   3728\u001b[0m \u001b[43m    \u001b[49m\u001b[43mcolumns\u001b[49m\u001b[38;5;241;43m=\u001b[39;49m\u001b[43mcolumns\u001b[49m\u001b[43m,\u001b[49m\n\u001b[1;32m   3729\u001b[0m \u001b[43m    \u001b[49m\u001b[43mindex_label\u001b[49m\u001b[38;5;241;43m=\u001b[39;49m\u001b[43mindex_label\u001b[49m\u001b[43m,\u001b[49m\n\u001b[1;32m   3730\u001b[0m \u001b[43m    \u001b[49m\u001b[43mmode\u001b[49m\u001b[38;5;241;43m=\u001b[39;49m\u001b[43mmode\u001b[49m\u001b[43m,\u001b[49m\n\u001b[1;32m   3731\u001b[0m \u001b[43m    \u001b[49m\u001b[43mchunksize\u001b[49m\u001b[38;5;241;43m=\u001b[39;49m\u001b[43mchunksize\u001b[49m\u001b[43m,\u001b[49m\n\u001b[1;32m   3732\u001b[0m \u001b[43m    \u001b[49m\u001b[43mquotechar\u001b[49m\u001b[38;5;241;43m=\u001b[39;49m\u001b[43mquotechar\u001b[49m\u001b[43m,\u001b[49m\n\u001b[1;32m   3733\u001b[0m \u001b[43m    \u001b[49m\u001b[43mdate_format\u001b[49m\u001b[38;5;241;43m=\u001b[39;49m\u001b[43mdate_format\u001b[49m\u001b[43m,\u001b[49m\n\u001b[1;32m   3734\u001b[0m \u001b[43m    \u001b[49m\u001b[43mdoublequote\u001b[49m\u001b[38;5;241;43m=\u001b[39;49m\u001b[43mdoublequote\u001b[49m\u001b[43m,\u001b[49m\n\u001b[1;32m   3735\u001b[0m \u001b[43m    \u001b[49m\u001b[43mescapechar\u001b[49m\u001b[38;5;241;43m=\u001b[39;49m\u001b[43mescapechar\u001b[49m\u001b[43m,\u001b[49m\n\u001b[1;32m   3736\u001b[0m \u001b[43m    \u001b[49m\u001b[43mstorage_options\u001b[49m\u001b[38;5;241;43m=\u001b[39;49m\u001b[43mstorage_options\u001b[49m\u001b[43m,\u001b[49m\n\u001b[1;32m   3737\u001b[0m \u001b[43m\u001b[49m\u001b[43m)\u001b[49m\n",
      "File \u001b[0;32m~/.local/lib/python3.8/site-packages/pandas/util/_decorators.py:211\u001b[0m, in \u001b[0;36mdeprecate_kwarg.<locals>._deprecate_kwarg.<locals>.wrapper\u001b[0;34m(*args, **kwargs)\u001b[0m\n\u001b[1;32m    209\u001b[0m     \u001b[38;5;28;01melse\u001b[39;00m:\n\u001b[1;32m    210\u001b[0m         kwargs[new_arg_name] \u001b[38;5;241m=\u001b[39m new_arg_value\n\u001b[0;32m--> 211\u001b[0m \u001b[38;5;28;01mreturn\u001b[39;00m \u001b[43mfunc\u001b[49m\u001b[43m(\u001b[49m\u001b[38;5;241;43m*\u001b[39;49m\u001b[43margs\u001b[49m\u001b[43m,\u001b[49m\u001b[43m \u001b[49m\u001b[38;5;241;43m*\u001b[39;49m\u001b[38;5;241;43m*\u001b[39;49m\u001b[43mkwargs\u001b[49m\u001b[43m)\u001b[49m\n",
      "File \u001b[0;32m~/.local/lib/python3.8/site-packages/pandas/io/formats/format.py:1189\u001b[0m, in \u001b[0;36mDataFrameRenderer.to_csv\u001b[0;34m(self, path_or_buf, encoding, sep, columns, index_label, mode, compression, quoting, quotechar, lineterminator, chunksize, date_format, doublequote, escapechar, errors, storage_options)\u001b[0m\n\u001b[1;32m   1168\u001b[0m     created_buffer \u001b[38;5;241m=\u001b[39m \u001b[38;5;28;01mFalse\u001b[39;00m\n\u001b[1;32m   1170\u001b[0m csv_formatter \u001b[38;5;241m=\u001b[39m CSVFormatter(\n\u001b[1;32m   1171\u001b[0m     path_or_buf\u001b[38;5;241m=\u001b[39mpath_or_buf,\n\u001b[1;32m   1172\u001b[0m     lineterminator\u001b[38;5;241m=\u001b[39mlineterminator,\n\u001b[0;32m   (...)\u001b[0m\n\u001b[1;32m   1187\u001b[0m     formatter\u001b[38;5;241m=\u001b[39m\u001b[38;5;28mself\u001b[39m\u001b[38;5;241m.\u001b[39mfmt,\n\u001b[1;32m   1188\u001b[0m )\n\u001b[0;32m-> 1189\u001b[0m \u001b[43mcsv_formatter\u001b[49m\u001b[38;5;241;43m.\u001b[39;49m\u001b[43msave\u001b[49m\u001b[43m(\u001b[49m\u001b[43m)\u001b[49m\n\u001b[1;32m   1191\u001b[0m \u001b[38;5;28;01mif\u001b[39;00m created_buffer:\n\u001b[1;32m   1192\u001b[0m     \u001b[38;5;28;01massert\u001b[39;00m \u001b[38;5;28misinstance\u001b[39m(path_or_buf, StringIO)\n",
      "File \u001b[0;32m~/.local/lib/python3.8/site-packages/pandas/io/formats/csvs.py:241\u001b[0m, in \u001b[0;36mCSVFormatter.save\u001b[0;34m(self)\u001b[0m\n\u001b[1;32m    237\u001b[0m \u001b[38;5;124;03m\"\"\"\u001b[39;00m\n\u001b[1;32m    238\u001b[0m \u001b[38;5;124;03mCreate the writer & save.\u001b[39;00m\n\u001b[1;32m    239\u001b[0m \u001b[38;5;124;03m\"\"\"\u001b[39;00m\n\u001b[1;32m    240\u001b[0m \u001b[38;5;66;03m# apply compression and byte/text conversion\u001b[39;00m\n\u001b[0;32m--> 241\u001b[0m \u001b[38;5;28;01mwith\u001b[39;00m \u001b[43mget_handle\u001b[49m\u001b[43m(\u001b[49m\n\u001b[1;32m    242\u001b[0m \u001b[43m    \u001b[49m\u001b[38;5;28;43mself\u001b[39;49m\u001b[38;5;241;43m.\u001b[39;49m\u001b[43mfilepath_or_buffer\u001b[49m\u001b[43m,\u001b[49m\n\u001b[1;32m    243\u001b[0m \u001b[43m    \u001b[49m\u001b[38;5;28;43mself\u001b[39;49m\u001b[38;5;241;43m.\u001b[39;49m\u001b[43mmode\u001b[49m\u001b[43m,\u001b[49m\n\u001b[1;32m    244\u001b[0m \u001b[43m    \u001b[49m\u001b[43mencoding\u001b[49m\u001b[38;5;241;43m=\u001b[39;49m\u001b[38;5;28;43mself\u001b[39;49m\u001b[38;5;241;43m.\u001b[39;49m\u001b[43mencoding\u001b[49m\u001b[43m,\u001b[49m\n\u001b[1;32m    245\u001b[0m \u001b[43m    \u001b[49m\u001b[43merrors\u001b[49m\u001b[38;5;241;43m=\u001b[39;49m\u001b[38;5;28;43mself\u001b[39;49m\u001b[38;5;241;43m.\u001b[39;49m\u001b[43merrors\u001b[49m\u001b[43m,\u001b[49m\n\u001b[1;32m    246\u001b[0m \u001b[43m    \u001b[49m\u001b[43mcompression\u001b[49m\u001b[38;5;241;43m=\u001b[39;49m\u001b[38;5;28;43mself\u001b[39;49m\u001b[38;5;241;43m.\u001b[39;49m\u001b[43mcompression\u001b[49m\u001b[43m,\u001b[49m\n\u001b[1;32m    247\u001b[0m \u001b[43m    \u001b[49m\u001b[43mstorage_options\u001b[49m\u001b[38;5;241;43m=\u001b[39;49m\u001b[38;5;28;43mself\u001b[39;49m\u001b[38;5;241;43m.\u001b[39;49m\u001b[43mstorage_options\u001b[49m\u001b[43m,\u001b[49m\n\u001b[1;32m    248\u001b[0m \u001b[43m\u001b[49m\u001b[43m)\u001b[49m \u001b[38;5;28;01mas\u001b[39;00m handles:\n\u001b[1;32m    249\u001b[0m \n\u001b[1;32m    250\u001b[0m     \u001b[38;5;66;03m# Note: self.encoding is irrelevant here\u001b[39;00m\n\u001b[1;32m    251\u001b[0m     \u001b[38;5;28mself\u001b[39m\u001b[38;5;241m.\u001b[39mwriter \u001b[38;5;241m=\u001b[39m csvlib\u001b[38;5;241m.\u001b[39mwriter(\n\u001b[1;32m    252\u001b[0m         handles\u001b[38;5;241m.\u001b[39mhandle,\n\u001b[1;32m    253\u001b[0m         lineterminator\u001b[38;5;241m=\u001b[39m\u001b[38;5;28mself\u001b[39m\u001b[38;5;241m.\u001b[39mlineterminator,\n\u001b[0;32m   (...)\u001b[0m\n\u001b[1;32m    258\u001b[0m         quotechar\u001b[38;5;241m=\u001b[39m\u001b[38;5;28mself\u001b[39m\u001b[38;5;241m.\u001b[39mquotechar,\n\u001b[1;32m    259\u001b[0m     )\n\u001b[1;32m    261\u001b[0m     \u001b[38;5;28mself\u001b[39m\u001b[38;5;241m.\u001b[39m_save()\n",
      "File \u001b[0;32m~/.local/lib/python3.8/site-packages/pandas/io/common.py:734\u001b[0m, in \u001b[0;36mget_handle\u001b[0;34m(path_or_buf, mode, encoding, compression, memory_map, is_text, errors, storage_options)\u001b[0m\n\u001b[1;32m    732\u001b[0m \u001b[38;5;66;03m# Only for write methods\u001b[39;00m\n\u001b[1;32m    733\u001b[0m \u001b[38;5;28;01mif\u001b[39;00m \u001b[38;5;124m\"\u001b[39m\u001b[38;5;124mr\u001b[39m\u001b[38;5;124m\"\u001b[39m \u001b[38;5;129;01mnot\u001b[39;00m \u001b[38;5;129;01min\u001b[39;00m mode \u001b[38;5;129;01mand\u001b[39;00m is_path:\n\u001b[0;32m--> 734\u001b[0m     \u001b[43mcheck_parent_directory\u001b[49m\u001b[43m(\u001b[49m\u001b[38;5;28;43mstr\u001b[39;49m\u001b[43m(\u001b[49m\u001b[43mhandle\u001b[49m\u001b[43m)\u001b[49m\u001b[43m)\u001b[49m\n\u001b[1;32m    736\u001b[0m \u001b[38;5;28;01mif\u001b[39;00m compression:\n\u001b[1;32m    737\u001b[0m     \u001b[38;5;28;01mif\u001b[39;00m compression \u001b[38;5;241m!=\u001b[39m \u001b[38;5;124m\"\u001b[39m\u001b[38;5;124mzstd\u001b[39m\u001b[38;5;124m\"\u001b[39m:\n\u001b[1;32m    738\u001b[0m         \u001b[38;5;66;03m# compression libraries do not like an explicit text-mode\u001b[39;00m\n",
      "File \u001b[0;32m~/.local/lib/python3.8/site-packages/pandas/io/common.py:597\u001b[0m, in \u001b[0;36mcheck_parent_directory\u001b[0;34m(path)\u001b[0m\n\u001b[1;32m    595\u001b[0m parent \u001b[38;5;241m=\u001b[39m Path(path)\u001b[38;5;241m.\u001b[39mparent\n\u001b[1;32m    596\u001b[0m \u001b[38;5;28;01mif\u001b[39;00m \u001b[38;5;129;01mnot\u001b[39;00m parent\u001b[38;5;241m.\u001b[39mis_dir():\n\u001b[0;32m--> 597\u001b[0m     \u001b[38;5;28;01mraise\u001b[39;00m \u001b[38;5;167;01mOSError\u001b[39;00m(\u001b[38;5;124mrf\u001b[39m\u001b[38;5;124m\"\u001b[39m\u001b[38;5;124mCannot save file into a non-existent directory: \u001b[39m\u001b[38;5;124m'\u001b[39m\u001b[38;5;132;01m{\u001b[39;00mparent\u001b[38;5;132;01m}\u001b[39;00m\u001b[38;5;124m'\u001b[39m\u001b[38;5;124m\"\u001b[39m)\n",
      "\u001b[0;31mOSError\u001b[0m: Cannot save file into a non-existent directory: '/public/wanwang6/test/tutorial/demo/demo_results'"
     ]
    }
   ],
   "source": [
    "import smurf\n",
    "operator = smurf.SMURF(n_features=15, estimate_only=True)\n",
    "sc_distribution = operator.smurf_impute(sc_exp.T).T"
   ]
  },
  {
   "cell_type": "code",
   "execution_count": 13,
   "metadata": {},
   "outputs": [],
   "source": [
    "sc_distribution.to_csv(f'{outDir}SC_smurf.tsv',sep = '\\t',header=True,index=True)"
   ]
  },
  {
   "cell_type": "code",
   "execution_count": null,
   "metadata": {},
   "outputs": [],
   "source": [
    "# or you can load the precomputed results\n",
    "sc_distribution = pd.read_csv(f'{outDir}SC_smurf.tsv',sep = '\\t',header=0,index_col=0)"
   ]
  },
  {
   "cell_type": "markdown",
   "metadata": {},
   "source": [
    "# 4. Preprocess"
   ]
  },
  {
   "cell_type": "code",
   "execution_count": 14,
   "metadata": {},
   "outputs": [
    {
     "name": "stdout",
     "output_type": "stream",
     "text": [
      "Data clean is done! Using 3244 shared genes .\n"
     ]
    }
   ],
   "source": [
    "sc_adata, st_adata, sc_ref, lr_df = pp.prep_all_adata(sc_exp = sc_exp, st_exp = st_exp, sc_distribution = sc_distribution,\n",
    "                                                    sc_meta = sc_meta, st_coord = st_coord, lr_df = lr_df, SP = species)"
   ]
  },
  {
   "cell_type": "markdown",
   "metadata": {},
   "source": [
    "# 5. Cell selection"
   ]
  },
  {
   "cell_type": "code",
   "execution_count": 15,
   "metadata": {},
   "outputs": [
    {
     "name": "stdout",
     "output_type": "stream",
     "text": [
      "sc_ref and sc_adata has different genes, both data are subset to 3244 genes.\n",
      "Parameters checked!\n",
      "Getting svg genes\n",
      "By setting k as 6, each spot has average 5.80 neighbors.\n",
      "\t Estimating the cell number in each spot by the deconvolution result.\n",
      "\t SpexMod selects 3070 feature genes.\n",
      "\t Init solution: max - 0.9984,     mean - 0.9801,     min - 0.8617\n",
      "\t Swap selection start...\n",
      "\t Swapped solution: max - 1.00,     mean - 0.99,     min - 0.89\n"
     ]
    }
   ],
   "source": [
    "obj_spex = strInt(save_path = outDir, st_adata = st_adata, weight = st_decon,\n",
    "                    sc_ref = sc_ref, sc_adata = sc_adata, cell_type_key = 'celltype', lr_df = lr_df,\n",
    "                    st_tp = 'st',species = species)\n",
    "obj_spex.prep()\n",
    "sc_agg_meta = obj_spex.select_cells(p = 0, mean_num_per_spot = num_per_spot, mode = 'strict', max_rep = 1,\n",
    "                        repeat_penalty = repeat_penalty)"
   ]
  },
  {
   "cell_type": "markdown",
   "metadata": {},
   "source": [
    "# 6. Refinement process"
   ]
  },
  {
   "cell_type": "code",
   "execution_count": 16,
   "metadata": {},
   "outputs": [
    {
     "name": "stdout",
     "output_type": "stream",
     "text": [
      "Running v12 now...\n",
      "Init sc_coord by affinity embedding...\n",
      "Avearge shape correlation is: 0.8778290098402767\n",
      "First-term calculation done!\n",
      "Second-term calculation done!\n",
      "Third term calculation done!\n",
      "Fourth term calculation done!\n",
      "Hyperparameters adjusted.\n",
      "-----Start iteration 0 -----\n",
      "Avearge shape correlation is: 0.8778290098402767\n",
      "First-term calculation done!\n",
      "Second-term calculation done!\n",
      "Third term calculation done!\n",
      "Fourth term calculation done!\n",
      "---0 self.loss4 939.0265198205159 self.GAMMA 3.2514940128800084e-06 self.GAMMA*self.loss4 0.003053239107131958\n",
      "---In iteration 0, the loss is:loss1:3.05324,loss2:17.78077,loss3:4892.74138,loss4:939.02652,loss5:216.12637.\n",
      "---In iteration 0, the loss is:loss1:3.05324,loss2:6.10648,loss3:0.00305,loss4:0.00305,loss5:0.30532.\n",
      "The total loss after iteration 0 is 9.47115.\n",
      "-----Start iteration 1 -----\n",
      "Avearge shape correlation is: 0.8777965634613212\n",
      "First-term calculation done!\n",
      "Second-term calculation done!\n",
      "Third term calculation done!\n",
      "Fourth term calculation done!\n",
      "---1 self.loss4 929.9835916239841 self.GAMMA 3.2514940128800084e-06 self.GAMMA*self.loss4 0.003023836080242031\n",
      "---In iteration 1, the loss is:loss1:3.06065,loss2:17.80015,loss3:4820.66722,loss4:929.98359,loss5:216.16896.\n",
      "---In iteration 1, the loss is:loss1:3.06065,loss2:6.11313,loss3:0.00301,loss4:0.00302,loss5:0.30538.\n",
      "The total loss after iteration 1 is 9.48520.\n",
      "-----Start iteration 2 -----\n",
      "Avearge shape correlation is: 0.8775978209141885\n",
      "First-term calculation done!\n",
      "Second-term calculation done!\n",
      "Third term calculation done!\n",
      "Fourth term calculation done!\n",
      "---2 self.loss4 929.832052375579 self.GAMMA 3.2514940128800084e-06 self.GAMMA*self.loss4 0.0030233433512831254\n",
      "---In iteration 2, the loss is:loss1:3.05650,loss2:17.80231,loss3:4905.80059,loss4:929.83205,loss5:216.22701.\n",
      "---In iteration 2, the loss is:loss1:3.05650,loss2:6.11387,loss3:0.00306,loss4:0.00302,loss5:0.30547.\n",
      "The total loss after iteration 2 is 9.48192.\n",
      "-----Start iteration 3 -----\n",
      "Avearge shape correlation is: 0.8791490239559544\n",
      "First-term calculation done!\n",
      "Second-term calculation done!\n",
      "Third term calculation done!\n",
      "Fourth term calculation done!\n",
      "---3 self.loss4 865.0227212300821 self.GAMMA 3.2514940128800084e-06 self.GAMMA*self.loss4 0.0028126161990847842\n",
      "---In iteration 3, the loss is:loss1:3.05236,loss2:17.80449,loss3:5076.51280,loss4:865.02272,loss5:216.28502.\n",
      "---In iteration 3, the loss is:loss1:3.05236,loss2:6.11462,loss3:0.00317,loss4:0.00281,loss5:0.30555.\n",
      "The total loss after iteration 3 is 9.47851.\n",
      "-----Start iteration 4 -----\n",
      "Avearge shape correlation is: 0.892779300858528\n",
      "First-term calculation done!\n",
      "Second-term calculation done!\n",
      "Third term calculation done!\n",
      "Fourth term calculation done!\n",
      "---4 self.loss4 886.7338716443335 self.GAMMA 3.2514940128800084e-06 self.GAMMA*self.loss4 0.00288320987466946\n",
      "---In iteration 4, the loss is:loss1:3.04824,loss2:17.80667,loss3:4869.87416,loss4:886.73387,loss5:216.34299.\n",
      "---In iteration 4, the loss is:loss1:3.04824,loss2:6.11537,loss3:0.00304,loss4:0.00288,loss5:0.30563.\n",
      "The total loss after iteration 4 is 9.47516.\n",
      "-----Start iteration 5 -----\n",
      "Avearge shape correlation is: 0.8793990731351083\n",
      "First-term calculation done!\n",
      "Second-term calculation done!\n",
      "Third term calculation done!\n",
      "Fourth term calculation done!\n",
      "---5 self.loss4 864.8183716219179 self.GAMMA 3.2514940128800084e-06 self.GAMMA*self.loss4 0.0028119517575573042\n",
      "---In iteration 5, the loss is:loss1:3.04413,loss2:17.80887,loss3:5107.40806,loss4:864.81837,loss5:216.40092.\n",
      "---In iteration 5, the loss is:loss1:3.04413,loss2:6.11613,loss3:0.00319,loss4:0.00281,loss5:0.30571.\n",
      "The total loss after iteration 5 is 9.47197.\n",
      "-----Start iteration 6 -----\n",
      "Avearge shape correlation is: 0.8788524733355115\n",
      "First-term calculation done!\n",
      "Second-term calculation done!\n",
      "Third term calculation done!\n",
      "Fourth term calculation done!\n",
      "---6 self.loss4 933.5423406934027 self.GAMMA 3.2514940128800084e-06 self.GAMMA*self.loss4 0.003035407331534588\n",
      "---In iteration 6, the loss is:loss1:3.04004,loss2:17.81108,loss3:4864.56184,loss4:933.54234,loss5:216.45881.\n",
      "---In iteration 6, the loss is:loss1:3.04004,loss2:6.11689,loss3:0.00304,loss4:0.00304,loss5:0.30579.\n",
      "The total loss after iteration 6 is 9.46879.\n",
      "-----Start iteration 7 -----\n",
      "Avearge shape correlation is: 0.8789816986104803\n",
      "First-term calculation done!\n",
      "Second-term calculation done!\n",
      "Third term calculation done!\n",
      "Fourth term calculation done!\n",
      "---7 self.loss4 894.1124854669139 self.GAMMA 3.2514940128800084e-06 self.GAMMA*self.loss4 0.002907201393336934\n",
      "---In iteration 7, the loss is:loss1:3.03597,loss2:17.81330,loss3:4882.46987,loss4:894.11249,loss5:216.51666.\n",
      "---In iteration 7, the loss is:loss1:3.03597,loss2:6.11765,loss3:0.00305,loss4:0.00291,loss5:0.30588.\n",
      "The total loss after iteration 7 is 9.46545.\n",
      "-----Start iteration 8 -----\n",
      "Avearge shape correlation is: 0.879617493386482\n",
      "First-term calculation done!\n",
      "Second-term calculation done!\n",
      "Third term calculation done!\n",
      "Fourth term calculation done!\n",
      "---8 self.loss4 896.4909137964914 self.GAMMA 3.2514940128800084e-06 self.GAMMA*self.loss4 0.0029149348388106196\n",
      "---In iteration 8, the loss is:loss1:3.03191,loss2:17.81554,loss3:4866.18359,loss4:896.49091,loss5:216.57448.\n",
      "---In iteration 8, the loss is:loss1:3.03191,loss2:6.11842,loss3:0.00304,loss4:0.00291,loss5:0.30596.\n",
      "The total loss after iteration 8 is 9.46224.\n",
      "-----Start iteration 9 -----\n",
      "Avearge shape correlation is: 0.8795360237675851\n",
      "First-term calculation done!\n",
      "Second-term calculation done!\n",
      "Third term calculation done!\n"
     ]
    }
   ],
   "source": [
    "# sc_agg_meta.to_csv(f'{outDir}/spexmod_sc_meta.tsv',sep = '\\t',header=True,index=True)\n",
    "alter_sc_exp, sc_agg_meta = obj_spex.gradient_descent(\n",
    "                alpha, beta, gamma, delta, eta,\n",
    "                init_sc_embed = False,\n",
    "                iteration = 10, k = 2, W_HVG = 2,\n",
    "                left_range = 7, right_range = 8, steps = 1, dim = 2)"
   ]
  }
 ],
 "metadata": {
  "kernelspec": {
   "display_name": ".venv",
   "language": "python",
   "name": "python3"
  },
  "language_info": {
   "codemirror_mode": {
    "name": "ipython",
    "version": 3
   },
   "file_extension": ".py",
   "mimetype": "text/x-python",
   "name": "python",
   "nbconvert_exporter": "python",
   "pygments_lexer": "ipython3",
   "version": "3.8.13"
  }
 },
 "nbformat": 4,
 "nbformat_minor": 4
}
